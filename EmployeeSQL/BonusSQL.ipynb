{
 "cells": [
  {
   "cell_type": "code",
   "execution_count": 1,
   "id": "db8b8d13-90c3-4246-8301-d6de3888c35f",
   "metadata": {},
   "outputs": [],
   "source": [
    "import pandas as pd\n",
    "import sqlalchemy\n",
    "import pprint\n",
    "import psycopg2\n",
    "import matplotlib.pyplot as plt\n",
    "%matplotlib inline"
   ]
  },
  {
   "cell_type": "code",
   "execution_count": null,
   "id": "eae02b13-c585-4ea0-9d0b-38f35908cda2",
   "metadata": {},
   "outputs": [],
   "source": [
    "# Connect to local database\n",
    "from sqlalchemy import create_engine\n",
    "engine = create_engine('postgresql://localhost:5432/EmployeeSQL')\n",
    "connection = engine.connect()"
   ]
  },
  {
   "cell_type": "code",
   "execution_count": null,
   "id": "569c9546-7823-4dc1-a2d4-c02ad6dff826",
   "metadata": {},
   "outputs": [],
   "source": [
    "# Import the Employees table\n",
    "employees = pd.read_sql('select * from employees', connection, parse_dates=['birth_date', 'hire_date'])\n",
    "employees.head()"
   ]
  },
  {
   "cell_type": "code",
   "execution_count": null,
   "id": "42383a40-5ff0-4d94-9806-0c2ed2bc10d0",
   "metadata": {},
   "outputs": [],
   "source": [
    "# Import the Departments table\n",
    "departments = pd.read_sql('select * from departments', connection)\n",
    "departments.head()"
   ]
  },
  {
   "cell_type": "code",
   "execution_count": null,
   "id": "d5b1f95d-f842-4a0d-8548-10511e3c830b",
   "metadata": {},
   "outputs": [],
   "source": [
    "# Import the Salaries table\n",
    "salaries = pd.read_sql('select * from salaries', connection, parse_dates=['from_date', 'to_date'])\n",
    "salaries.head()"
   ]
  },
  {
   "cell_type": "code",
   "execution_count": null,
   "id": "bf3d2d5c-3149-49dc-a24d-3c60b08f11eb",
   "metadata": {},
   "outputs": [],
   "source": [
    "# Import the Department Manager table\n",
    "dept_manager = pd.read_sql('select * from dept_manager', connection, parse_dates=['from_date', 'to_date'])\n",
    "dept_manager.head()"
   ]
  },
  {
   "cell_type": "code",
   "execution_count": null,
   "id": "db494a28-7e86-4d47-a962-96e9b880e4cc",
   "metadata": {},
   "outputs": [],
   "source": [
    "# Replace null dates\n",
    "dept_manager.to_date = dept_manager['to_date'].fillna(pd.to_datetime('2050-12-31'))\n",
    "dept_manager.head()"
   ]
  },
  {
   "cell_type": "code",
   "execution_count": null,
   "id": "a74195c0-a3a7-434c-8429-255c823283fe",
   "metadata": {},
   "outputs": [],
   "source": [
    "# Import the Titles table\n",
    "titles = pd.read_sql('select * from titles', connection, parse_dates=['from_date', 'to_date'])\n",
    "titles.head()"
   ]
  },
  {
   "cell_type": "code",
   "execution_count": null,
   "id": "9d95cd99-eca5-43f5-9658-32f692aacfcc",
   "metadata": {},
   "outputs": [],
   "source": [
    "# Replace null dates\n",
    "titles.to_date = titles['to_date'].fillna(pd.to_datetime('2050-12-31'))\n",
    "titles.head()"
   ]
  },
  {
   "cell_type": "code",
   "execution_count": null,
   "id": "8ee7a3ef-4fd7-4943-aa99-a342767daa8b",
   "metadata": {},
   "outputs": [],
   "source": [
    "# Create a merged dataframe of titles and salaries\n",
    "employee_salaries = titles.merge(salaries, on='emp_no')\n",
    "employee_salaries.head()"
   ]
  },
  {
   "cell_type": "code",
   "execution_count": null,
   "id": "a091544b-aeb9-4305-bae8-217a73535d2f",
   "metadata": {},
   "outputs": [],
   "source": [
    "# Creating Dataframe with emp_no, title, salary\n",
    "employee_salaries_df = employee_salaries[['emp_no', 'title', 'salary']]\n",
    "employee_salaries_df.head()"
   ]
  },
  {
   "cell_type": "code",
   "execution_count": null,
   "id": "aad806d0-4abe-4c0b-8de1-39e26b0e87b5",
   "metadata": {},
   "outputs": [],
   "source": [
    "employee_salaries_df.groupby('title')['salary'].mean().round(2)\n",
    "employee_salaries_df.head()"
   ]
  },
  {
   "cell_type": "code",
   "execution_count": null,
   "id": "ed9edff2-5db3-4dba-902d-25225e410dcb",
   "metadata": {},
   "outputs": [],
   "source": [
    "employee_salaries_df.hist(column='salary')"
   ]
  },
  {
   "cell_type": "code",
   "execution_count": null,
   "id": "ad12d93e-9897-4c1a-8d7c-ec4ab20a65fb",
   "metadata": {},
   "outputs": [],
   "source": [
    "employees_grouped_by_title = employee_salaries_df.groupby(['title'])['salary'].mean()\n",
    "employees_grouped_by_title"
   ]
  },
  {
   "cell_type": "code",
   "execution_count": null,
   "id": "8fd5bef7-0f89-48b7-93ea-0253020c23a1",
   "metadata": {},
   "outputs": [],
   "source": [
    "employees_grouped_by_title.plot.bar()"
   ]
  }
 ],
 "metadata": {
  "kernelspec": {
   "display_name": "Python 3",
   "language": "python",
   "name": "python3"
  },
  "language_info": {
   "codemirror_mode": {
    "name": "ipython",
    "version": 3
   },
   "file_extension": ".py",
   "mimetype": "text/x-python",
   "name": "python",
   "nbconvert_exporter": "python",
   "pygments_lexer": "ipython3",
   "version": "3.8.8"
  }
 },
 "nbformat": 4,
 "nbformat_minor": 5
}
